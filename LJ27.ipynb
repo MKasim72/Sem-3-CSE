{
 "cells": [
  {
   "cell_type": "code",
   "execution_count": null,
   "metadata": {},
   "outputs": [],
   "source": [
    "# string is immutable\n",
    "x=\"Vishal10\"\n",
    "del x[6]\n",
    "print(x)"
   ]
  },
  {
   "cell_type": "code",
   "execution_count": null,
   "metadata": {},
   "outputs": [],
   "source": []
  },
  {
   "cell_type": "code",
   "execution_count": null,
   "metadata": {},
   "outputs": [],
   "source": []
  },
  {
   "cell_type": "code",
   "execution_count": null,
   "metadata": {},
   "outputs": [],
   "source": []
  },
  {
   "cell_type": "code",
   "execution_count": null,
   "metadata": {},
   "outputs": [],
   "source": [
    "x=\"D1 is best in python\"\n",
    "print(x[6])      #Indexing \n",
    "print(x[-9])     \n",
    "print(x[6:10])   #slicing\n",
    "print(x[14:])\n",
    "print(x[1::2])   #step size is used to get odd index\n",
    "print(x[0::2])   #step size is used to get even index\n",
    "print(x[-6:])    # using negative indexing\n",
    "print(x[-14:-10])\n",
    "print(x[::-1])\n",
    "print(x[-8:-15:-1])"
   ]
  },
  {
   "cell_type": "code",
   "execution_count": null,
   "metadata": {},
   "outputs": [],
   "source": [
    "print(\"*\"*10,end=\" \")"
   ]
  },
  {
   "cell_type": "code",
   "execution_count": null,
   "metadata": {},
   "outputs": [],
   "source": [
    "sum=0\n",
    "matches=0\n",
    "points=0\n",
    "\n",
    "while True :\n",
    "    Team1=input(\"Enter  Team 1 : \")\n",
    "    if Team\n",
    "\n"
   ]
  },
  {
   "cell_type": "code",
   "execution_count": null,
   "metadata": {},
   "outputs": [],
   "source": [
    "x='Vishal is best prof'\n",
    "result=\"\"\n",
    "for i in x:\n",
    "    if i=='a' :\n",
    "        \n",
    "        i='1'\n",
    "        \n",
    "    elif i=='b' :\n",
    "        \n",
    "        i='2'\n",
    "        \n",
    "    elif i=='c':\n",
    "        \n",
    "        i='3'\n",
    "    result+=i\n",
    "\n",
    "print(result)"
   ]
  },
  {
   "cell_type": "code",
   "execution_count": null,
   "metadata": {},
   "outputs": [],
   "source": [
    "count=0\n",
    "x=\"This is very long string \"\n",
    "for i in range(0,len(x)):\n",
    "    print(x[i])\n",
    "    count+=1\n",
    "    if count%5==0 :\n",
    "        user=input(\"Enter y for continue and n for break : \")\n",
    "        if user=='n':\n",
    "            break\n",
    "        else:\n",
    "            continue"
   ]
  },
  {
   "cell_type": "code",
   "execution_count": null,
   "metadata": {},
   "outputs": [],
   "source": [
    "# x='vishal'\n",
    "sorted('vishal',reverse=True)\n",
    "sorted('vishal',reverse=False)"
   ]
  },
  {
   "cell_type": "code",
   "execution_count": null,
   "metadata": {},
   "outputs": [],
   "source": [
    "x=\"d1 is Best\"\n",
    "print(x.capitalize())\n",
    "print(x.title())\n",
    "print(x.upper())\n",
    "print(x.lower())\n",
    "print(x.swapcase())\n",
    "print(x.count('s'))\n",
    "print(x.find('is',6,len(x)))\n",
    "print(x.find('is'))\n",
    "print(x.find('x'))\n",
    "print(x.index('is'))\n",
    "print(x.rindex('is'))\n",
    "# print(x.index('y'))\n",
    "\n"
   ]
  },
  {
   "cell_type": "code",
   "execution_count": null,
   "metadata": {},
   "outputs": [],
   "source": [
    "x='vishal10'\n",
    "x.isalnum()"
   ]
  },
  {
   "cell_type": "code",
   "execution_count": null,
   "metadata": {},
   "outputs": [],
   "source": [
    "passw=input(\"Enter your Password : \")\n",
    "upper=0\n",
    "lower=0 \n",
    "special=0\n",
    "digit=0\n",
    "if len(passw)>8 :\n",
    "    for i in passw:\n",
    "        if i.isupper():\n",
    "            upper+=1\n",
    "        elif i.islower():\n",
    "            lower+=1\n",
    "        elif i.isdigit():\n",
    "            digit+=1\n",
    "        else:\n",
    "            special+=1\n",
    "            \n",
    "if upper>=1 and lower>=1 and digit>=1 and special>=1:\n",
    "            print(\"Accepted\")\n",
    "            \n",
    "else:\n",
    "    print(\"Less than 8 is not ACCEPTABLE !!!\")\n",
    "    \n",
    "\n",
    "\n"
   ]
  },
  {
   "cell_type": "code",
   "execution_count": null,
   "metadata": {},
   "outputs": [],
   "source": [
    "x=\"D1 is best in Python\"\n",
    "new=\" \"\n",
    "x=x.title()\n",
    "print(x)\n",
    "for i in range(0,len(x)):\n",
    "    if i<len(x)-1:\n",
    "            if x[i+1]==\" \": \n",
    "                new+=x[i].upper()\n",
    "                continue\n",
    "            new+=x[i]\n",
    "    else:\n",
    "        new+=x[i].upper()\n",
    "print(new)\n",
    "        \n",
    "\n",
    "    \n",
    "\n"
   ]
  },
  {
   "cell_type": "code",
   "execution_count": null,
   "metadata": {},
   "outputs": [],
   "source": [
    "#replace string method \n",
    "x=\"D1 is best in Python\"\n",
    "print(x.replace(\"best\",\"good\"))"
   ]
  },
  {
   "cell_type": "code",
   "execution_count": null,
   "metadata": {},
   "outputs": [],
   "source": [
    "#trim method \n",
    "x=\"  D1 is best in Pthon   \"\n",
    "print(x ,\"With white space\")\n",
    "print(x.strip())\n",
    "print(x.lstrip())\n",
    "print(x.rstrip())\n"
   ]
  },
  {
   "cell_type": "code",
   "execution_count": null,
   "metadata": {},
   "outputs": [],
   "source": [
    "x=\"aaaaabaaa\"\n",
    "print(x.strip('a'))"
   ]
  },
  {
   "cell_type": "code",
   "execution_count": null,
   "metadata": {},
   "outputs": [],
   "source": [
    "x=\"mtmtmtmttmtmtmsdjbgtmmtmtmtmtmtmttmtmtmtmt\"\n",
    "print(x.strip('mt'))"
   ]
  },
  {
   "cell_type": "code",
   "execution_count": null,
   "metadata": {},
   "outputs": [],
   "source": [
    "k=\"D1 is best in Python\"\n",
    "m=k.maketrans(\"aeiou\",\"12345\")\n",
    "print(k.translate(m))"
   ]
  },
  {
   "cell_type": "code",
   "execution_count": null,
   "metadata": {},
   "outputs": [],
   "source": [
    "a=[1,2,3,4,5]\n",
    "print(id(a))\n",
    "print(id(a[0]))\n",
    "print(id(a[1]))\n",
    "print(id(a[2]))\n",
    "print(id(0))\n",
    "print(id(1))\n",
    "print(id(2))"
   ]
  },
  {
   "cell_type": "code",
   "execution_count": null,
   "metadata": {},
   "outputs": [],
   "source": [
    "l=[1,2,3,4,5,6,7,'vishal',9]\n",
    "# print(l[3])\n",
    "# print(l[-6])\n",
    "# print(l[-2][-5])\n",
    "print(l[3:7])\n",
    "print(l[-8:-3:2][-3])\n",
    "print(l[-5:-8:-1][-1])\n",
    "print(l[-1::-1])"
   ]
  },
  {
   "cell_type": "code",
   "execution_count": null,
   "metadata": {},
   "outputs": [],
   "source": [
    "l=[[1,2],[3,4],['vishal10']]\n",
    "print(l[1][1])\n",
    "print(l[2][0][7])\n",
    "print(l[1:])"
   ]
  },
  {
   "cell_type": "code",
   "execution_count": null,
   "metadata": {},
   "outputs": [],
   "source": [
    "l=[[[1,2],[3,4]],[[5,6],[7,8]]]\n",
    "print(l[0][1][1])\n",
    "print(l[-2][-1][-1])"
   ]
  },
  {
   "cell_type": "code",
   "execution_count": null,
   "metadata": {},
   "outputs": [],
   "source": [
    "# //encode\n",
    "\n",
    "msg='vishal'\n",
    "key=2\n",
    "encrypted=''\n",
    "ref='abcdefghijklmnopqrstuvwxyz'\n",
    "\n",
    "for i in msg:\n",
    "    point=ref.find(i)\n",
    "    encrypted+=ref[(point+key)%26]\n",
    "\n",
    "    \n",
    "print(encrypted)\n",
    "\n",
    "\n",
    "    "
   ]
  },
  {
   "cell_type": "code",
   "execution_count": null,
   "metadata": {},
   "outputs": [],
   "source": [
    "# decode\n",
    "\n",
    "msg=input(\"Enter a string : \")\n",
    "key=int(input(\"Enter key : \"))\n",
    "decrypted=''\n",
    "ref='abcdefghijklmnopqrstuvwxyz'\n",
    "\n",
    "for i in msg:\n",
    "    point=ref.find(i)\n",
    "    decrypted+=ref[(point-key)%26]\n",
    "\n",
    "    \n",
    "print(decrypted)"
   ]
  },
  {
   "cell_type": "code",
   "execution_count": null,
   "metadata": {},
   "outputs": [],
   "source": [
    "msg='d1 is best in python'\n",
    "key=2\n",
    "encrypt=''\n",
    "for i in msg:\n",
    "#     index=msg.find(i)\n",
    "    encrypt+=msg[((msg.find(i))+key)%len(msg)]\n",
    "print(encrypt)"
   ]
  },
  {
   "cell_type": "code",
   "execution_count": null,
   "metadata": {},
   "outputs": [],
   "source": [
    "l1=[1,2,3,4,5]\n",
    "l2=[6,7,8,9,10]\n",
    "print(l1+l2)\n",
    "print(l1*3)\n",
    "print(list(enumerate(l1))) #enumeerate is used to get index and value \n",
    "print(list(enumerate(l1,start=10))) #indexing will start from 10 and for tuple we will used tuple instead of list"
   ]
  },
  {
   "cell_type": "code",
   "execution_count": null,
   "metadata": {},
   "outputs": [],
   "source": [
    "l=[[[1,2],[3,4]],[[5,6],[7,8]]]\n",
    "for i in l:\n",
    "    print(i)\n",
    "    for j in i:\n",
    "        print(j)\n",
    "        for k in j:\n",
    "            print(k)"
   ]
  },
  {
   "cell_type": "code",
   "execution_count": null,
   "metadata": {},
   "outputs": [],
   "source": [
    "l=[1,2,3,4,5,1,2]\n",
    "print(len(l))\n",
    "print(max(l))\n",
    "print(min(l))\n",
    "print(sum(l))\n",
    "print(sorted(l))\n",
    "print(sorted(l,reverse=True))\n",
    "print(reversed(l))\n",
    "\n",
    "\n",
    "\n"
   ]
  },
  {
   "cell_type": "code",
   "execution_count": null,
   "metadata": {},
   "outputs": [],
   "source": [
    "list=[]\n",
    "for i in range(1,11):\n",
    "    list.append(i)\n",
    "print(list)\n",
    "\n"
   ]
  },
  {
   "cell_type": "code",
   "execution_count": null,
   "metadata": {},
   "outputs": [],
   "source": [
    "l1=[i for i in range(1,11)]\n",
    "print(l1)"
   ]
  },
  {
   "cell_type": "code",
   "execution_count": null,
   "metadata": {},
   "outputs": [],
   "source": [
    "x=['apple','banana','orange']\n",
    "y=['watermelon','mango','apple','banana']\n",
    "print([i for i in x if i in y])"
   ]
  },
  {
   "cell_type": "code",
   "execution_count": null,
   "metadata": {},
   "outputs": [],
   "source": [
    "t=(1,2,3,4)\n",
    "print(t[::-1])\n"
   ]
  },
  {
   "cell_type": "code",
   "execution_count": null,
   "metadata": {},
   "outputs": [],
   "source": [
    "d={1:'10',2:'20',3:'30',2:'50'}\n",
    "print(d[2])"
   ]
  },
  {
   "cell_type": "code",
   "execution_count": null,
   "metadata": {},
   "outputs": [],
   "source": [
    "d={\n",
    "    1:{'PS':9,'PYTHON':9,'DE':9,'FSD':9,},\n",
    "    2:{'PS':10,'PYTHON':10,'DE':10,'FSD':10,}\n",
    "}\n",
    "print(d[2]['PYTHON'])\n",
    "print(d.get(5,0))\n",
    "# print(d[7]) #eror"
   ]
  },
  {
   "cell_type": "code",
   "execution_count": null,
   "metadata": {},
   "outputs": [],
   "source": [
    "d=dict([(1,2),(3,4)])\n",
    "print(d)"
   ]
  },
  {
   "cell_type": "code",
   "execution_count": null,
   "metadata": {},
   "outputs": [],
   "source": [
    "l=[1,2,3,4]\n",
    "p=[10,10,10,10]\n",
    "d=dict(zip(l,p))\n",
    "print(d)"
   ]
  },
  {
   "cell_type": "code",
   "execution_count": null,
   "metadata": {},
   "outputs": [],
   "source": [
    "# update dict\n",
    "d={1:'10',2:'20',3:'30',2:'50'}\n",
    "d[3]='72'\n",
    "d[4]='50'\n",
    "print(d)"
   ]
  },
  {
   "cell_type": "code",
   "execution_count": null,
   "metadata": {},
   "outputs": [],
   "source": [
    "d={\n",
    "    1:{'PS':9,'PYTHON':9,'DE':9,'FSD':9,},\n",
    "    2:{'PS':10,'PYTHON':10,'DE':10,'FSD':10,}\n",
    "}\n",
    "d[1]['PYTHON']='10'\n",
    "print(d)"
   ]
  },
  {
   "cell_type": "code",
   "execution_count": null,
   "metadata": {},
   "outputs": [],
   "source": [
    "d={1:[2,3,5]}\n",
    "d[1][1]=7\n",
    "d[1].pop()\n",
    "print(d)"
   ]
  },
  {
   "cell_type": "code",
   "execution_count": null,
   "metadata": {},
   "outputs": [],
   "source": [
    "x='abc bcd 9cf xyz ace brf cde xzy xyz'\n",
    "words=x.split(\" \")\n",
    "count=0\n",
    "d={}\n",
    "for i in words:\n",
    "    d[i[0]]=d.get(i[0],[])\n",
    "    d[i[0]].append(i)\n",
    "print(d)\n",
    "    \n",
    "\n",
    "    "
   ]
  },
  {
   "cell_type": "code",
   "execution_count": null,
   "metadata": {},
   "outputs": [],
   "source": [
    "x={1:2,3:9,5:6}\n",
    "print(len(x))\n",
    "print(min(x))\n",
    "print(max(x))\n",
    "print(sorted(x))\n",
    "print(x.keys())\n",
    "print(x.values())\n",
    "print(x.items())\n",
    "\n"
   ]
  },
  {
   "cell_type": "code",
   "execution_count": null,
   "metadata": {},
   "outputs": [],
   "source": [
    "d=[5,7,'vishal']\n",
    "print(min(d))"
   ]
  },
  {
   "cell_type": "code",
   "execution_count": null,
   "metadata": {},
   "outputs": [],
   "source": [
    "x={1:2,3:9,5:6}\n",
    "x.update({1:7,8:9})\n",
    "print(x)"
   ]
  },
  {
   "cell_type": "code",
   "execution_count": null,
   "metadata": {},
   "outputs": [],
   "source": [
    "l=[i for i in range (1,35)]\n",
    "z=10\n",
    "d=dict.fromkeys(l,2)\n",
    "print(d)"
   ]
  },
  {
   "cell_type": "code",
   "execution_count": null,
   "metadata": {},
   "outputs": [],
   "source": [
    "x={1:2,3:9,5:6}\n",
    "x.setdefault(1,7)\n",
    "print(x)"
   ]
  },
  {
   "cell_type": "code",
   "execution_count": null,
   "metadata": {},
   "outputs": [],
   "source": [
    "x={1:2,3:9,5:6}\n",
    "# x.pop(3)\n",
    "# print(x)\n",
    "x.popitem()\n",
    "print(x)"
   ]
  },
  {
   "cell_type": "code",
   "execution_count": null,
   "metadata": {},
   "outputs": [],
   "source": [
    "l=[1,2,3,4]\n",
    "candy=[1]*len(l)\n",
    "# print(candy)\n",
    "for i in range(1,len(l)):\n",
    "    if l[i]>l[i-1]:\n",
    "        candy[i]=candy[i-1]+1\n",
    "\n",
    "for j in range(len(l)-1,-1,-1):\n",
    "    if l[i-1]>l[i]:\n",
    "        candy[i]=max(candy[i],(candy[i+1]+1))\n",
    "print(sum(candy))\n",
    "        "
   ]
  },
  {
   "cell_type": "code",
   "execution_count": null,
   "metadata": {},
   "outputs": [],
   "source": [
    "s=\"python python1 python2 python3 python4 python5\"\n",
    "l=s.split(\" \")\n",
    "l.sort()\n",
    "res=\"\"\n",
    "for i in range(len(l[0])):\n",
    "    if l[0][i]==l[-1][i]:\n",
    "        res+=l[0][i]\n",
    "    else:\n",
    "        break\n",
    "if res:\n",
    "    print(res)\n",
    "else:\n",
    "    print(\"nothing\")"
   ]
  },
  {
   "cell_type": "code",
   "execution_count": null,
   "metadata": {},
   "outputs": [],
   "source": [
    "l=eval(input(\"enter list: \"))\n",
    "for i in range(0,len(l)):\n",
    "    for j in range(0,len(l)):\n",
    "        if i>j:\n",
    "            l[i][j],l[j][i]=l[j][i],l[i][j]\n",
    "print(l)\n",
    "for i in l:\n",
    "    i.reverse()\n",
    "print(l)\n",
    "\n",
    "    \n"
   ]
  },
  {
   "cell_type": "code",
   "execution_count": 1,
   "metadata": {},
   "outputs": [
    {
     "name": "stdout",
     "output_type": "stream",
     "text": [
      "{1, 2, 3, 4, 5, 'hello', 'vishal'}\n"
     ]
    }
   ],
   "source": [
    "s={1,2,3,'hello',4,5,'vishal'}\n",
    "print(s)"
   ]
  },
  {
   "cell_type": "code",
   "execution_count": 2,
   "metadata": {},
   "outputs": [
    {
     "name": "stdout",
     "output_type": "stream",
     "text": [
      "{1, 2}\n"
     ]
    }
   ],
   "source": [
    "print({1,2,1,2})\n"
   ]
  },
  {
   "cell_type": "code",
   "execution_count": 6,
   "metadata": {},
   "outputs": [
    {
     "name": "stdout",
     "output_type": "stream",
     "text": [
      "set()\n"
     ]
    }
   ],
   "source": [
    "# s={} //dict\n",
    "s=set()\n",
    "print(s)\n"
   ]
  },
  {
   "cell_type": "code",
   "execution_count": 8,
   "metadata": {},
   "outputs": [
    {
     "ename": "TypeError",
     "evalue": "unhashable type: 'list'",
     "output_type": "error",
     "traceback": [
      "\u001b[1;31m---------------------------------------------------------------------------\u001b[0m",
      "\u001b[1;31mTypeError\u001b[0m                                 Traceback (most recent call last)",
      "\u001b[1;32m<ipython-input-8-bdb6459e6a6a>\u001b[0m in \u001b[0;36m<module>\u001b[1;34m\u001b[0m\n\u001b[1;32m----> 1\u001b[1;33m \u001b[0ms\u001b[0m\u001b[1;33m=\u001b[0m\u001b[1;33m{\u001b[0m\u001b[1;36m1\u001b[0m\u001b[1;33m,\u001b[0m\u001b[1;36m2\u001b[0m\u001b[1;33m,\u001b[0m\u001b[1;33m[\u001b[0m\u001b[1;36m1\u001b[0m\u001b[1;33m,\u001b[0m\u001b[1;36m2\u001b[0m\u001b[1;33m]\u001b[0m\u001b[1;33m}\u001b[0m\u001b[1;33m\u001b[0m\u001b[1;33m\u001b[0m\u001b[0m\n\u001b[0m",
      "\u001b[1;31mTypeError\u001b[0m: unhashable type: 'list'"
     ]
    }
   ],
   "source": [
    "s={1,2,[1,2]}\n"
   ]
  },
  {
   "cell_type": "code",
   "execution_count": 10,
   "metadata": {},
   "outputs": [
    {
     "ename": "TypeError",
     "evalue": "unhashable type: 'set'",
     "output_type": "error",
     "traceback": [
      "\u001b[1;31m---------------------------------------------------------------------------\u001b[0m",
      "\u001b[1;31mTypeError\u001b[0m                                 Traceback (most recent call last)",
      "\u001b[1;32m<ipython-input-10-57e5f5bcb89f>\u001b[0m in \u001b[0;36m<module>\u001b[1;34m\u001b[0m\n\u001b[1;32m----> 1\u001b[1;33m \u001b[0ms\u001b[0m\u001b[1;33m=\u001b[0m\u001b[1;33m{\u001b[0m\u001b[1;33m{\u001b[0m\u001b[1;36m1\u001b[0m\u001b[1;33m,\u001b[0m\u001b[1;36m2\u001b[0m\u001b[1;33m}\u001b[0m\u001b[1;33m,\u001b[0m\u001b[1;33m{\u001b[0m\u001b[1;36m3\u001b[0m\u001b[1;33m,\u001b[0m\u001b[1;36m4\u001b[0m\u001b[1;33m}\u001b[0m\u001b[1;33m}\u001b[0m \u001b[1;31m#set is mutable\u001b[0m\u001b[1;33m\u001b[0m\u001b[1;33m\u001b[0m\u001b[0m\n\u001b[0m",
      "\u001b[1;31mTypeError\u001b[0m: unhashable type: 'set'"
     ]
    }
   ],
   "source": [
    " s={{1,2},{3,4}} #set is mutable"
   ]
  },
  {
   "cell_type": "code",
   "execution_count": 15,
   "metadata": {},
   "outputs": [
    {
     "name": "stdout",
     "output_type": "stream",
     "text": [
      "{1, 2, 3, 4, 5}\n",
      "{1, 2, 3, 4, 5, 7}\n"
     ]
    }
   ],
   "source": [
    "s={1,2,3,4}\n",
    "s.add(5)\n",
    "print(s)\n",
    "s.update({1,2,5,7})\n",
    "print(s)"
   ]
  },
  {
   "cell_type": "code",
   "execution_count": 18,
   "metadata": {},
   "outputs": [
    {
     "ename": "NameError",
     "evalue": "name 's' is not defined",
     "output_type": "error",
     "traceback": [
      "\u001b[1;31m---------------------------------------------------------------------------\u001b[0m",
      "\u001b[1;31mNameError\u001b[0m                                 Traceback (most recent call last)",
      "\u001b[1;32m<ipython-input-18-827addb53b9d>\u001b[0m in \u001b[0;36m<module>\u001b[1;34m\u001b[0m\n\u001b[0;32m      1\u001b[0m \u001b[0ms\u001b[0m\u001b[1;33m=\u001b[0m\u001b[1;33m{\u001b[0m\u001b[1;36m1\u001b[0m\u001b[1;33m,\u001b[0m\u001b[1;36m2\u001b[0m\u001b[1;33m,\u001b[0m\u001b[1;36m3\u001b[0m\u001b[1;33m,\u001b[0m\u001b[1;36m4\u001b[0m\u001b[1;33m}\u001b[0m\u001b[1;33m\u001b[0m\u001b[1;33m\u001b[0m\u001b[0m\n\u001b[0;32m      2\u001b[0m \u001b[1;32mdel\u001b[0m \u001b[0ms\u001b[0m\u001b[1;33m\u001b[0m\u001b[1;33m\u001b[0m\u001b[0m\n\u001b[1;32m----> 3\u001b[1;33m \u001b[0mprint\u001b[0m\u001b[1;33m(\u001b[0m\u001b[0ms\u001b[0m\u001b[1;33m)\u001b[0m\u001b[1;33m\u001b[0m\u001b[1;33m\u001b[0m\u001b[0m\n\u001b[0m",
      "\u001b[1;31mNameError\u001b[0m: name 's' is not defined"
     ]
    }
   ],
   "source": [
    "s={1,2,3,4}\n",
    "del s\n",
    "print(s)\n"
   ]
  },
  {
   "cell_type": "code",
   "execution_count": 21,
   "metadata": {},
   "outputs": [
    {
     "name": "stdout",
     "output_type": "stream",
     "text": [
      "set()\n"
     ]
    }
   ],
   "source": [
    "s={1,2,3,4}\n",
    "s.clear()\n",
    "print(s)"
   ]
  },
  {
   "cell_type": "code",
   "execution_count": 24,
   "metadata": {},
   "outputs": [
    {
     "name": "stdout",
     "output_type": "stream",
     "text": [
      "{1, 2, 4}\n"
     ]
    }
   ],
   "source": [
    "s={1,2,3,4}\n",
    "s.discard(3)\n",
    "print(s)"
   ]
  },
  {
   "cell_type": "code",
   "execution_count": 26,
   "metadata": {},
   "outputs": [
    {
     "name": "stdout",
     "output_type": "stream",
     "text": [
      "{1, 2, 3}\n"
     ]
    }
   ],
   "source": [
    "s={1,2,3,4}\n",
    "s.remove(4)\n",
    "print(s)"
   ]
  },
  {
   "cell_type": "code",
   "execution_count": 28,
   "metadata": {},
   "outputs": [
    {
     "ename": "KeyError",
     "evalue": "7",
     "output_type": "error",
     "traceback": [
      "\u001b[1;31m---------------------------------------------------------------------------\u001b[0m",
      "\u001b[1;31mKeyError\u001b[0m                                  Traceback (most recent call last)",
      "\u001b[1;32m<ipython-input-28-98ad58233d4d>\u001b[0m in \u001b[0;36m<module>\u001b[1;34m\u001b[0m\n\u001b[0;32m      1\u001b[0m \u001b[0ms\u001b[0m\u001b[1;33m=\u001b[0m\u001b[1;33m{\u001b[0m\u001b[1;36m1\u001b[0m\u001b[1;33m,\u001b[0m\u001b[1;36m2\u001b[0m\u001b[1;33m,\u001b[0m\u001b[1;36m3\u001b[0m\u001b[1;33m,\u001b[0m\u001b[1;36m4\u001b[0m\u001b[1;33m}\u001b[0m\u001b[1;33m\u001b[0m\u001b[1;33m\u001b[0m\u001b[0m\n\u001b[1;32m----> 2\u001b[1;33m \u001b[0ms\u001b[0m\u001b[1;33m.\u001b[0m\u001b[0mremove\u001b[0m\u001b[1;33m(\u001b[0m\u001b[1;36m7\u001b[0m\u001b[1;33m)\u001b[0m \u001b[1;31m#eror\u001b[0m\u001b[1;33m\u001b[0m\u001b[1;33m\u001b[0m\u001b[0m\n\u001b[0m\u001b[0;32m      3\u001b[0m \u001b[0mprint\u001b[0m\u001b[1;33m(\u001b[0m\u001b[0ms\u001b[0m\u001b[1;33m)\u001b[0m\u001b[1;33m\u001b[0m\u001b[1;33m\u001b[0m\u001b[0m\n",
      "\u001b[1;31mKeyError\u001b[0m: 7"
     ]
    }
   ],
   "source": [
    "s={1,2,3,4}\n",
    "s.remove(7) #eror\n",
    "print(s)"
   ]
  },
  {
   "cell_type": "code",
   "execution_count": 37,
   "metadata": {},
   "outputs": [
    {
     "name": "stdout",
     "output_type": "stream",
     "text": [
      "{2, 3, 4}\n"
     ]
    }
   ],
   "source": [
    "s={1,2,3,4}\n",
    "s.pop()\n",
    "print(s)"
   ]
  },
  {
   "cell_type": "code",
   "execution_count": 44,
   "metadata": {},
   "outputs": [
    {
     "name": "stdout",
     "output_type": "stream",
     "text": [
      "{1, 2, 3, 4, 5, 8}\n",
      "{3, 4}\n",
      "{1, 2, 5, 8}\n",
      "{1, 2}\n",
      "{8, 5}\n"
     ]
    }
   ],
   "source": [
    "s1={1,2,3,4}\n",
    "s2={5,4,3,8}\n",
    "print(s1|s2)#union\n",
    "print(s1&s2)#intersection\n",
    "print(s1^s2)#symmetric difference\n",
    "print(s1-s2)#difference\n",
    "print(s2-s1)#difference\n"
   ]
  },
  {
   "cell_type": "code",
   "execution_count": 53,
   "metadata": {},
   "outputs": [
    {
     "name": "stdout",
     "output_type": "stream",
     "text": [
      "{1, 2, 3, 4, 5, 6, 7, 8}\n",
      "None\n",
      "{1, 2, 3, 4, 5, 6, 7, 8}\n"
     ]
    }
   ],
   "source": [
    "s1={1,2,3,4}\n",
    "s2={5,6,7,8}\n",
    "s1=s1.union(s2)\n",
    "print(s1)\n",
    "print(s1.update(s2))\n",
    "print(s1)"
   ]
  },
  {
   "cell_type": "code",
   "execution_count": 68,
   "metadata": {},
   "outputs": [
    {
     "data": {
      "text/plain": [
       "True"
      ]
     },
     "execution_count": 68,
     "metadata": {},
     "output_type": "execute_result"
    }
   ],
   "source": [
    "s1={1,2,3,4}\n",
    "s2={5,6,7,8}\n",
    "s1.isdisjoint(s2)\n",
    "s1.issubset(s2)\n",
    "s1={1,2,3,4,5,7,8}\n",
    "s2={1,2,3,4}\n",
    "s1.issuperset(s2)\n"
   ]
  },
  {
   "cell_type": "code",
   "execution_count": 67,
   "metadata": {},
   "outputs": [
    {
     "name": "stdout",
     "output_type": "stream",
     "text": [
      "{1, 2, 3, 4}\n"
     ]
    }
   ],
   "source": [
    "s1={1,2,3,4}\n",
    "s2=s1.copy()\n",
    "print(s2)"
   ]
  },
  {
   "cell_type": "code",
   "execution_count": 73,
   "metadata": {},
   "outputs": [
    {
     "data": {
      "text/plain": [
       "False"
      ]
     },
     "execution_count": 73,
     "metadata": {},
     "output_type": "execute_result"
    }
   ],
   "source": [
    "5 in {1,2,5}\n",
    "2 not in{1,2,3}\n",
    "2 in {1,(2,),5}"
   ]
  },
  {
   "cell_type": "code",
   "execution_count": 87,
   "metadata": {},
   "outputs": [
    {
     "ename": "SyntaxError",
     "evalue": "unexpected EOF while parsing (<ipython-input-87-91047a673d8a>, line 5)",
     "output_type": "error",
     "traceback": [
      "\u001b[1;36m  File \u001b[1;32m\"<ipython-input-87-91047a673d8a>\"\u001b[1;36m, line \u001b[1;32m5\u001b[0m\n\u001b[1;33m    \u001b[0m\n\u001b[1;37m    ^\u001b[0m\n\u001b[1;31mSyntaxError\u001b[0m\u001b[1;31m:\u001b[0m unexpected EOF while parsing\n"
     ]
    }
   ],
   "source": [
    "s1={1,2,3,4}\n",
    "for i in s:\n",
    "    print(i)\n",
    "    "
   ]
  },
  {
   "cell_type": "code",
   "execution_count": 93,
   "metadata": {},
   "outputs": [
    {
     "data": {
      "text/plain": [
       "[1, 2, 3, 4, 5, 7]"
      ]
     },
     "execution_count": 93,
     "metadata": {},
     "output_type": "execute_result"
    }
   ],
   "source": [
    "s1={1,2,3,4,1,1,1,1,2,5,7}\n",
    "len(s1)\n",
    "min(s1)\n",
    "max(s1)\n",
    "sum(s1)\n",
    "sorted(s1)"
   ]
  },
  {
   "cell_type": "code",
   "execution_count": 100,
   "metadata": {},
   "outputs": [
    {
     "name": "stdout",
     "output_type": "stream",
     "text": [
      "2\n",
      "<function <lambda> at 0x000001D4E86301F0>\n"
     ]
    }
   ],
   "source": [
    "#lamda\n",
    "# x=4\n",
    "# y=5\n",
    "a=lambda x,y:x+y\n",
    "print(a(1,1))\n",
    "print(a)\n"
   ]
  },
  {
   "cell_type": "code",
   "execution_count": 104,
   "metadata": {},
   "outputs": [
    {
     "name": "stdout",
     "output_type": "stream",
     "text": [
      "odd\n"
     ]
    }
   ],
   "source": [
    "a = lambda x: 'even' if x%2==0 else \"odd\" \n",
    "print(a(5))"
   ]
  },
  {
   "cell_type": "code",
   "execution_count": 109,
   "metadata": {},
   "outputs": [
    {
     "name": "stdout",
     "output_type": "stream",
     "text": [
      "[1, 8, 27, 64, 125]\n"
     ]
    }
   ],
   "source": [
    "def cube(x):\n",
    "    return x**3\n",
    "\n",
    "def transform(f,L):\n",
    "    \n",
    "    output = []\n",
    "    for i in L:\n",
    "        output.append(f(i))\n",
    "    print(output)\n",
    "    \n",
    "L = [1,2,3,4,5]\n",
    "transform(cube,L)"
   ]
  },
  {
   "cell_type": "code",
   "execution_count": 117,
   "metadata": {},
   "outputs": [
    {
     "name": "stdout",
     "output_type": "stream",
     "text": [
      "[1, 8, 27, 64, 125]\n"
     ]
    }
   ],
   "source": [
    "x=[1,2,3,4,5]\n",
    "result = list(map(lambda i:i**3,x))\n",
    "print(result)"
   ]
  },
  {
   "cell_type": "code",
   "execution_count": 125,
   "metadata": {},
   "outputs": [
    {
     "name": "stdout",
     "output_type": "stream",
     "text": [
      "['male', 'female', 'male']\n"
     ]
    }
   ],
   "source": [
    "data = [\n",
    "    {\n",
    "        1:'vishal',\n",
    "        'age':25,\n",
    "        'gender':'male'\n",
    "    },\n",
    "    {\n",
    "        \n",
    "        2:'isha',\n",
    "        'age':25,\n",
    "        'gender':'female'\n",
    "    },\n",
    "    {\n",
    "        \n",
    "        3:'vish',\n",
    "        'age':25,\n",
    "        'gender':'male'\n",
    "    }\n",
    "]\n",
    "result=list(map(lambda i:i['gender'],data))\n",
    "print(result)"
   ]
  },
  {
   "cell_type": "code",
   "execution_count": 127,
   "metadata": {},
   "outputs": [
    {
     "name": "stdout",
     "output_type": "stream",
     "text": [
      "[2, 4, 6]\n"
     ]
    }
   ],
   "source": [
    "x=[1,2,3,4,5,6]\n",
    "x=list(filter(lambda x:x%2==0,x))\n",
    "print(x)"
   ]
  },
  {
   "cell_type": "code",
   "execution_count": 130,
   "metadata": {},
   "outputs": [
    {
     "name": "stdout",
     "output_type": "stream",
     "text": [
      "['tulip']\n"
     ]
    }
   ],
   "source": [
    "x=['pip','pine','tulip','pupil']\n",
    "x=list(filter(lambda x:x[0][0]==\"t\",x))\n",
    "print(x)"
   ]
  },
  {
   "cell_type": "code",
   "execution_count": 133,
   "metadata": {},
   "outputs": [
    {
     "name": "stdout",
     "output_type": "stream",
     "text": [
      "['bdjvcfgyj', 'bdmlkjjh', 'vishal']\n"
     ]
    }
   ],
   "source": [
    "l=['vishal','bdjvcfgyj','bdmlkjjh']\n",
    "l=sorted(l,key=len,reverse=True)\n",
    "print(l)"
   ]
  },
  {
   "cell_type": "code",
   "execution_count": 138,
   "metadata": {},
   "outputs": [
    {
     "name": "stdout",
     "output_type": "stream",
     "text": [
      "[(2, 3), (2, 4), (1, 6), (5, 7)]\n"
     ]
    }
   ],
   "source": [
    "l=[(5,7),(2,3),(1,6),(2,4)]\n",
    "l=sorted(l,key=lambda x:x[1],reverse=False)\n",
    "print(l)"
   ]
  },
  {
   "cell_type": "code",
   "execution_count": 150,
   "metadata": {},
   "outputs": [
    {
     "name": "stdout",
     "output_type": "stream",
     "text": [
      "{5: [5], 6: [6], 9: [9], 4: [4, 4], 3: [3, 3, 3], 2: [2, 2, 2, 2, 2, 2]}\n"
     ]
    }
   ],
   "source": [
    "l=[3,2,4,5,6,2,3,4,2,2,9,2,2,3]\n",
    "d={}\n",
    "for i in l:\n",
    "    d[i]=d.get(i,[])\n",
    "    d[i].append(i)\n",
    "\n",
    "# print(dict(l))\n",
    "l=sorted(d.items(),key=lambda x:len(x[1]),reverse=False)\n",
    "print(dict(l))"
   ]
  },
  {
   "cell_type": "code",
   "execution_count": 1,
   "metadata": {},
   "outputs": [],
   "source": [
    "s='abnxbcnanabc'\n"
   ]
  },
  {
   "cell_type": "code",
   "execution_count": 3,
   "metadata": {},
   "outputs": [],
   "source": [
    "import tkinter as tk\n",
    "from tkinter import messagebox\n",
    "import sqlite3 as sql\n",
    "\n",
    "class AttendanceManager(tk.Tk):\n",
    "\tdef __init__(self,*args,**kwargs):\n",
    "\t\ttk.Tk. __init__(self,*args,**kwargs)\n",
    "\t\tcontainer=tk.Frame(self)\n",
    "\t\t\n",
    "\t\tcontainer.pack(side=\"top\",fill=\"both\",expand=True)\n",
    "\t\tcontainer.grid_rowconfigure(0,weight=1)\n",
    "\t\tcontainer.grid_columnconfigure(0,weight=1)\n",
    "\t\t\n",
    "\t\tself.frames=dict() \t\n",
    "\t\tfor F in (StartPage,NewRecord,ManageAttendance,DeleteRecord,EditRecord,AddSubjects,TodayData):\n",
    "\t\t\tframe=F(container,self)\n",
    "\t\t\tself.frames[F]=frame\n",
    "\t\t\tframe.grid(row=0,column=0,sticky=\"nsew\")\n",
    "\t\t\n",
    "\t\tself.show_frame(StartPage)\n",
    "\t\t\n",
    "\tdef show_frame(self,cont):\n",
    "\t\tframe=self.frames[cont]\n",
    "\t\tframe.tkraise()\n",
    "\n",
    "class StartPage(tk.Frame):\n",
    "\tdef __init__(self,parent,controller):\n",
    "\t\ttk.Frame.__init__(self,parent)\n",
    "\t\t\n",
    "\t\t\n",
    "\t\tlabel1=tk.Label(self,text=\"ATTENDANCE MANAGEMENT SYSTEM Project using Python\",font=(\"Times\",26))\n",
    "    \n",
    "\t\tbt1=tk.Button(self,text=\"Add new record\",font=(\"Times\",16),height=2,width=17,bg=\"blue\" ,command=lambda:controller.show_frame(NewRecord))\n",
    "\t\tbt2=tk.Button(self,text=\"Manage attendance\",font=(\"Times\",16),height=2,width=17,bg=\"yellow\",command=lambda:controller.show_frame(ManageAttendance))\n",
    "\t\tbt3=tk.Button(self,text=\"Delete record\",font=(\"Times\",16),height=2,width=17,bg=\"red\",command=lambda:controller.show_frame(DeleteRecord))\n",
    "\t\tbt4=tk.Button(self,text=\"Edit record\",font=(\"Times\",16),height=2,width=17,bg=\"orange\",command=lambda:controller.show_frame(EditRecord))\n",
    "\t\tlabel1.pack()\n",
    "\t\tbt1.pack()\n",
    "\t\tbt2.pack()\n",
    "\t\tbt3.pack()\n",
    "\t\tbt4.pack()\n",
    "\n",
    "class NewRecord(tk.Frame):\n",
    "\tdef __init__(self,parent,controller):\n",
    "\t\ttk.Frame.__init__(self,parent)\n",
    "\t\tlabel1=tk.Label(self,text=\"New Record\",font=(\"Times\",24))\n",
    "\t\tlabel2=tk.Label(self,text=\"NOTE: If you want a new record, previous one will be deleted,continue?\",font=(\"Times\",14))\n",
    "\t\t\n",
    "\t\tbt2=tk.Button(self,text=\"YES\",font=(\"Times\",16),bg=\"orange\",height=2,width=17,command=lambda:controller.show_frame(AddSubjects))\n",
    "\t\tbt3=tk.Button(self,text=\"NO\",font=(\"Times\",16),bg=\"red\",height=2,width=17,command=lambda:controller.show_frame(StartPage))\n",
    "\t\tlabel1.pack()\n",
    "\t\tlabel2.pack()\n",
    "\t\tbt2.pack()\n",
    "\t\tbt3.pack()\n",
    "\t\t\n",
    "\n",
    "class ManageAttendance(tk.Frame):\n",
    "\tdef __init__(self,parent,controller):\n",
    "\t\ttk.Frame.__init__(self,parent)\n",
    "\t\t\n",
    "\t\tlabel1=tk.Label(self,text=\"Manage Attendance\",font=(\"Times\",24))\n",
    "\t\tlabel1.pack()\n",
    "\t\tbt2=tk.Button(self,text=\"Show status\", bg=\"green\",font=(\"Times\",16),height=2,width=17,command=lambda:self.showstatus(controller))\n",
    "\t\tbt3=tk.Button(self,text=\"Today's data\",  bg=\"orange\",font=(\"Times\",16),height=2,width=17,command=lambda:controller.show_frame(TodayData))\t\n",
    "\t\tbt1=tk.Button(self,text=\"Back to home\",bg=\"red\",font=(\"Times\",16),height=2,width=17,command=lambda:controller.show_frame(StartPage))\n",
    "\t\tbt2.pack()\n",
    "\t\tbt3.pack()\n",
    "\t\tbt1.pack()\n",
    "\tdef showstatus(self,controller):\n",
    "\t\ttry:\n",
    "\t\t\tconn=sql.connect(\"attend\")\n",
    "\t\t\tcur=conn.cursor()\n",
    "\t\t\tcur.execute('SELECT * FROM attable')\n",
    "\t\t\ttext=\"\"\n",
    "\t\t\tfor w in cur:\n",
    "\t\t\t\tif w[2]==0 and w[3]==0:\n",
    "\t\t\t\t\tper=\"0\"\n",
    "\t\t\t\telse:\n",
    "\t\t\t\t\tper=w[2]/(w[2]+w[3])\n",
    "\t\t\t\t\tper=per*100\n",
    "\t\t\t\t\tper=str(int(per))\n",
    "\t\t\t\ttext=text+\"sub id \"+str(w[0])+\" \"+w[1]+\" \"+per+\"%\\n\"\n",
    "\t\t\tmessagebox.showinfo(\"status\", text)\n",
    "\t\texcept:\n",
    "\t\t\tmessagebox.showinfo(\"Alert!\", \"There is no record\")\t\n",
    "\n",
    "\n",
    "class DeleteRecord(tk.Frame):\n",
    "\tdef __init__(self,parent,controller):\n",
    "\t\ttk.Frame.__init__(self,parent)\n",
    "\t\tlabel1=tk.Label(self,text=\"Delete Record\",font=(\"Times\",24))\n",
    "\t\tlabel2=tk.Label(self,text=\"This action will delete the record,continue?\",font=(\"Times\",12))\n",
    "\t\tbt2=tk.Button(self,text=\"YES\",bg=\"green\",font=(\"Times\",16),height=2,width=17,command=lambda:self.delrecord(controller))\n",
    "\t\tbt1=tk.Button(self,text=\"NO\",bg=\"yellow\",font=(\"Times\",16),height=2,width=17,command=lambda:controller.show_frame(StartPage))\n",
    "\t\tbt3=tk.Button(self,text=\"Back to home\",bg=\"red\",font=(\"Times\",16),height=2,width=17,command=lambda:controller.show_frame(StartPage))\n",
    "\t\tlabel1.pack()\n",
    "\t\tlabel2.pack()\n",
    "\t\tbt2.pack()\n",
    "\t\tbt1.pack()\n",
    "\t\tbt3.pack()\n",
    "\tdef delrecord(self,controller):\n",
    "\t\tconn=sql.connect('attend') \n",
    "\t\tcur=conn.cursor()\n",
    "\t\tcur.execute('DROP TABLE IF EXISTS attable')\t\n",
    "\t\tconn.commit()\n",
    "\t\tconn.close()\n",
    "\t\tmessagebox.showinfo(\"Alert!\", \"records deleted\")\n",
    "\t\tcontroller.show_frame(StartPage)\t\n",
    "\t\t\n",
    "\t\t\n",
    "class EditRecord(tk.Frame):\n",
    "\tdef __init__(self,parent,controller):\n",
    "\t\ttk.Frame.__init__(self,parent)\n",
    "\t\tlabel1=tk.Label(self,text=\"Edit Record\",font=(\"Times\",24))\n",
    "\t\tbt1=tk.Button(self,text=\"Back to home\",bg=\"red\",font=(\"Times\",16),height=2,width=17,command=lambda:controller.show_frame(StartPage))\n",
    "\t\tlabel1.pack()\n",
    "\t\tlb2=tk.Label(self,text=\"Input Subject ID: \",font=(\"Times\",15))\n",
    "\t\ttxt1=tk.Entry(self)\n",
    "\t\tlb2.pack()\n",
    "\t\ttxt1.pack()\n",
    "\t\tlb3=tk.Label(self,text=\"Number of times attended:\",font=(\"Times\",15))\n",
    "\t\ttxt2=tk.Entry(self)\n",
    "\t\tlb4=tk.Label(self,text=\"Number of times bunked:\",font=(\"Times\",15))\n",
    "\t\ttxt3=tk.Entry(self)\n",
    "\t\tlb3.pack()\n",
    "\t\ttxt2.pack()\n",
    "\t\tlb4.pack()\n",
    "\t\ttxt3.pack()\n",
    "\t\tbt3=tk.Button(self,text=\"Update\",bg=\"green\",font=(\"Times\",16),height=2,width=17,command=lambda:self.update(txt1.get(),txt2.get(),txt3.get()))\n",
    "\t\tbt2=tk.Button(self,text=\"Show subjects ID\",bg=\"yellow\",font=(\"Times\",16),height=2,width=17,command=lambda:self.showid(controller))\n",
    "\t\tbt2.pack()\n",
    "\t\tbt3.pack()\n",
    "\t\tbt1.pack()\n",
    "\tdef update(self,i,p,b):\n",
    "\t\ti=int(i)\n",
    "\t\t\n",
    "\t\tif p==\"\" or p==\" \" or p==\"\\n\":\n",
    "\t\t\tp=0\n",
    "\t\telse:\n",
    "\t\t\tp=int(p)\n",
    "\t\tif b==\"\" or b==\" \" or b==\"\\n\":\n",
    "\t\t\tb=0\n",
    "\t\telse:\n",
    "\t\t\tb=int(b)\n",
    "\t\ttry:\n",
    "\t\t\n",
    "\t\t\tconn=sql.connect(\"attend\")\n",
    "\t\t\tcur=conn.cursor()\n",
    "\t\t\tcur.execute(\"SELECT * FROM attable WHERE subid=?\",(i,))\n",
    "\t\t\tkk=cur.fetchone()\n",
    "\t\t\tnp=p\n",
    "\t\t\t\n",
    "\t\t\tnb=b\n",
    "\t\t\t\t\n",
    "\t\t\tcur.execute(\"UPDATE attable SET attended = ? WHERE subid= ?\",(np,i))\n",
    "\t\t\tcur.execute(\"UPDATE attable SET bunked = ? WHERE subid= ?\",(nb,i))\n",
    "\t\t\tconn.commit()\n",
    "\t\t\tconn.close()\n",
    "\t\t\tmessagebox.showinfo(\"Alert!\", \"Updated\")\n",
    "\t\t\t\n",
    "\t\texcept:\n",
    "\t\t\tmessagebox.showinfo(\"Alert!\", \"There is no record\")\n",
    "\t\n",
    "\tdef showid(self,controller):\n",
    "\t\ttry:\n",
    "\t\t\tconn=sql.connect(\"attend\")\n",
    "\t\t\tcur=conn.cursor()\n",
    "\t\t\tcur.execute('SELECT * FROM attable')\n",
    "\t\t\ttext=\"\"\n",
    "\t\t\tfor w in cur:\n",
    "\t\t\t\ttext=text+\"sub id \"+str(w[0])+\" \"+w[1]+\"\\n\"\n",
    "\t\t\tmessagebox.showinfo(\"Subject ID: \", text)\n",
    "\t\t\tconn.commit()\n",
    "\t\t\tconn.close()\n",
    "\t\texcept:\n",
    "\t\t\tmessagebox.showinfo(\"Alert!\", \"There is no record\")\n",
    "\n",
    "\n",
    "class AddSubjects(tk.Frame):\n",
    "\tdef __init__(self,parent,controller):\n",
    "\t\ttk.Frame.__init__(self,parent)\n",
    "\t\tlabel1=tk.Label(self,text=\"Add subject's name seperated by commas(,)\",font=(\"Times\",16))\n",
    "\t\ttxt1=tk.Text(self,font=(\"Times\",16),width=48,height=3)\n",
    "\t\t\n",
    "\t\tbt2=tk.Button(self,text=\"Add subjects!\",bg=\"orange\",font=(\"Times\",16),height=2,width=17,command=lambda:self.addsub(txt1.get(\"1.0\",tk.END),controller))\n",
    "\t\tbt1=tk.Button(self,text=\"Back to home\",bg=\"red\",font=(\"Times\",16),height=2,width=17,command=lambda:controller.show_frame(StartPage))\n",
    "\t\tlabel1.pack()\n",
    "\t\ttxt1.pack()\n",
    "\t\tbt2.pack()\t\n",
    "\t\tbt1.pack()\n",
    "\tdef addsub(self,a,controller):\n",
    "\t\t\n",
    "\t\tconn=sql.connect('attend')\n",
    "\t\tcur=conn.cursor()\n",
    "\t\tcur.execute('DROP TABLE IF EXISTS attable')\n",
    "\t\t\n",
    "\t\ta=a[0:len(a)-1]\n",
    "\t\ta=a.split(\",\")\n",
    "\t\t\n",
    "\t\tif len(a)==1 and a[0]==\"\" :\n",
    "\t\t\tmessagebox.showinfo(\"Alert!\", \"Please enter the subjects\")\n",
    "\t\telse:\n",
    "\t\t\tsid=1\n",
    "\t\t\tcur.execute('CREATE TABLE attable(subid INTEGER,subject TEXT,attended INTEGER,bunked INTEGER)')\n",
    "\t\t\tfor sub in a:\n",
    "\t\t\t\tcur.execute('INSERT INTO attable (subid,subject,attended,bunked) VALUES(?,?,?,?)',(sid,sub,0,0))\n",
    "\t\t\t\tsid=sid+1\n",
    "\t\t\tconn.commit()\n",
    "\t\t\tconn.close()\n",
    "\t\t\tmessagebox.showinfo(\"congratulations!\", \"subjects are added\")\n",
    "\t\t\tcontroller.show_frame(StartPage)\n",
    "\n",
    "\n",
    "class TodayData(tk.Frame):\n",
    "\tdef __init__(self,parent,controller):\n",
    "\t\ttk.Frame.__init__(self,parent)\n",
    "\t\tlabel1=tk.Label(self,text=\"Enter data of today\",font=(\"Times\",24))\n",
    "\t\tlabel1.pack()\n",
    "\t\tbt2=tk.Button(self,text=\"Show id of subjects\",bg=\"yellow\",font=(\"Times\",16),height=2,width=17,command=lambda:self.showid(controller))\n",
    "\t\tbt1=tk.Button(self,text=\"Back to home\",bg=\"red\",font=(\"Times\",16),height=2,width=17,command=lambda:controller.show_frame(StartPage))\n",
    "\t\tlb2=tk.Label(self,text=\"Input the corresponding Subject ID: \",font=(\"Times\",15))\n",
    "\t\ttxt1=tk.Entry(self)\n",
    "\t\tlb2.pack()\n",
    "\t\ttxt1.pack()\n",
    "\t\tlb3=tk.Label(self,text=\"Number of times attended:\",font=(\"Times\",15))\n",
    "\t\ttxt2=tk.Entry(self)\n",
    "\t\tlb4=tk.Label(self,text=\"Number of times bunked:\",font=(\"Times\",15))\n",
    "\t\ttxt3=tk.Entry(self)\n",
    "\t\tlb3.pack()\n",
    "\t\ttxt2.pack()\n",
    "\t\tlb4.pack()\n",
    "\t\ttxt3.pack()\n",
    "\t\tbt3=tk.Button(self,text=\"Add to record\",bg=\"orange\",font=(\"Times\",16),height=2,width=17,command=lambda:self.addrecord(txt1.get(),txt2.get(),txt3.get()))\n",
    "\t\tbt3.pack()\n",
    "\t\tbt2.pack()\n",
    "\t\tbt1.pack()\n",
    "\tdef showid(self,controller):\n",
    "\t\ttry:\n",
    "\t\t\tconn=sql.connect(\"attend\")\n",
    "\t\t\tcur=conn.cursor()\n",
    "\t\t\tcur.execute('SELECT * FROM attable')\n",
    "\t\t\ttext=\"\"\n",
    "\t\t\tfor w in cur:\n",
    "\t\t\t\ttext=text+\"sub id \"+str(w[0])+\" \"+w[1]+\"\\n\"\n",
    "\t\t\tmessagebox.showinfo(\"Subject ID: \", text)\n",
    "\t\t\tconn.commit()\n",
    "\t\t\tconn.close()\n",
    "\t\texcept:\n",
    "\t\t\tmessagebox.showinfo(\"Alert!\", \"There is no record\")\t\n",
    "\tdef addrecord(self,i,p,b):\n",
    "\t\ti=int(i)\n",
    "\t\t\n",
    "\t\tif p==\"\" or p==\" \" or p==\"\\n\":\n",
    "\t\t\tp=0\n",
    "\t\telse:\n",
    "\t\t\tp=int(p)\n",
    "\t\tif b==\"\" or b==\" \" or b==\"\\n\":\n",
    "\t\t\tb=0\n",
    "\t\telse:\n",
    "\t\t\tb=int(b)\n",
    "\t\ttry:\n",
    "\t\t\n",
    "\t\t\tconn=sql.connect(\"attend\")\n",
    "\t\t\tcur=conn.cursor()\n",
    "\t\t\tcur.execute(\"SELECT * FROM attable WHERE subid=?\",(i,))\n",
    "\t\t\tkk=cur.fetchone()\n",
    "\t\t\tnp=kk[2]+p\n",
    "\t\t\t\n",
    "\t\t\tnb=kk[3]+b\n",
    "\t\t\t\t\n",
    "\t\t\tcur.execute(\"UPDATE attable SET attended = ? WHERE subid= ?\",(np,i))\n",
    "\t\t\tcur.execute(\"UPDATE attable SET bunked = ? WHERE subid= ?\",(nb,i))\n",
    "\t\t\tconn.commit()\n",
    "\t\t\tconn.close()\n",
    "\t\t\tmessagebox.showinfo(\"Alert!\", \"Done\")\n",
    "\t\texcept:\n",
    "\t\t\tmessagebox.showinfo(\"Alert!\", \"There is no record\")\t\t\n",
    "\t\t\t\n",
    "def main():\n",
    "\tapp=AttendanceManager()\n",
    "\tapp.title(\"Attendance Management - CopyAssignment\")\n",
    "\tapp.mainloop()\n",
    "\n",
    "\n",
    "if __name__==\"__main__\":\n",
    "\tmain()"
   ]
  },
  {
   "cell_type": "code",
   "execution_count": null,
   "metadata": {},
   "outputs": [],
   "source": []
  }
 ],
 "metadata": {
  "kernelspec": {
   "display_name": "Python 3",
   "language": "python",
   "name": "python3"
  },
  "language_info": {
   "codemirror_mode": {
    "name": "ipython",
    "version": 3
   },
   "file_extension": ".py",
   "mimetype": "text/x-python",
   "name": "python",
   "nbconvert_exporter": "python",
   "pygments_lexer": "ipython3",
   "version": "3.8.5"
  }
 },
 "nbformat": 4,
 "nbformat_minor": 4
}
