{
 "cells": [
  {
   "cell_type": "code",
   "execution_count": null,
   "metadata": {},
   "outputs": [],
   "source": [
    "# string is immutable\n",
    "x=\"Vishal10\"\n",
    "del x[6]\n",
    "print(x)"
   ]
  },
  {
   "cell_type": "code",
   "execution_count": null,
   "metadata": {},
   "outputs": [],
   "source": []
  },
  {
   "cell_type": "code",
   "execution_count": null,
   "metadata": {},
   "outputs": [],
   "source": []
  },
  {
   "cell_type": "code",
   "execution_count": null,
   "metadata": {},
   "outputs": [],
   "source": []
  },
  {
   "cell_type": "code",
   "execution_count": null,
   "metadata": {},
   "outputs": [],
   "source": [
    "x=\"D1 is best in python\"\n",
    "print(x[6])      #Indexing \n",
    "print(x[-9])     \n",
    "print(x[6:10])   #slicing\n",
    "print(x[14:])\n",
    "print(x[1::2])   #step size is used to get odd index\n",
    "print(x[0::2])   #step size is used to get even index\n",
    "print(x[-6:])    # using negative indexing\n",
    "print(x[-14:-10])\n",
    "print(x[::-1])\n",
    "print(x[-8:-15:-1])"
   ]
  },
  {
   "cell_type": "code",
   "execution_count": null,
   "metadata": {},
   "outputs": [],
   "source": [
    "print(\"*\"*10,end=\" \")"
   ]
  },
  {
   "cell_type": "code",
   "execution_count": null,
   "metadata": {},
   "outputs": [],
   "source": [
    "sum=0\n",
    "matches=0\n",
    "points=0\n",
    "\n",
    "while True :\n",
    "    Team1=input(\"Enter  Team 1 : \")\n",
    "    if Team\n",
    "\n"
   ]
  },
  {
   "cell_type": "code",
   "execution_count": null,
   "metadata": {},
   "outputs": [],
   "source": [
    "x='Vishal is best prof'\n",
    "result=\"\"\n",
    "for i in x:\n",
    "    if i=='a' :\n",
    "        \n",
    "        i='1'\n",
    "        \n",
    "    elif i=='b' :\n",
    "        \n",
    "        i='2'\n",
    "        \n",
    "    elif i=='c':\n",
    "        \n",
    "        i='3'\n",
    "    result+=i\n",
    "\n",
    "print(result)"
   ]
  },
  {
   "cell_type": "code",
   "execution_count": null,
   "metadata": {},
   "outputs": [],
   "source": [
    "count=0\n",
    "x=\"This is very long string \"\n",
    "for i in range(0,len(x)):\n",
    "    print(x[i])\n",
    "    count+=1\n",
    "    if count%5==0 :\n",
    "        user=input(\"Enter y for continue and n for break : \")\n",
    "        if user=='n':\n",
    "            break\n",
    "        else:\n",
    "            continue"
   ]
  },
  {
   "cell_type": "code",
   "execution_count": null,
   "metadata": {},
   "outputs": [],
   "source": [
    "# x='vishal'\n",
    "sorted('vishal',reverse=True)\n",
    "sorted('vishal',reverse=False)"
   ]
  },
  {
   "cell_type": "code",
   "execution_count": null,
   "metadata": {},
   "outputs": [],
   "source": [
    "x=\"d1 is Best\"\n",
    "print(x.capitalize())\n",
    "print(x.title())\n",
    "print(x.upper())\n",
    "print(x.lower())\n",
    "print(x.swapcase())\n",
    "print(x.count('s'))\n",
    "print(x.find('is',6,len(x)))\n",
    "print(x.find('is'))\n",
    "print(x.find('x'))\n",
    "print(x.index('is'))\n",
    "print(x.rindex('is'))\n",
    "# print(x.index('y'))\n",
    "\n"
   ]
  },
  {
   "cell_type": "code",
   "execution_count": null,
   "metadata": {},
   "outputs": [],
   "source": [
    "x='vishal10'\n",
    "x.isalnum()"
   ]
  },
  {
   "cell_type": "code",
   "execution_count": null,
   "metadata": {},
   "outputs": [],
   "source": [
    "passw=input(\"Enter your Password : \")\n",
    "upper=0\n",
    "lower=0 \n",
    "special=0\n",
    "digit=0\n",
    "if len(passw)>8 :\n",
    "    for i in passw:\n",
    "        if i.isupper():\n",
    "            upper+=1\n",
    "        elif i.islower():\n",
    "            lower+=1\n",
    "        elif i.isdigit():\n",
    "            digit+=1\n",
    "        else:\n",
    "            special+=1\n",
    "            \n",
    "if upper>=1 and lower>=1 and digit>=1 and special>=1:\n",
    "            print(\"Accepted\")\n",
    "            \n",
    "else:\n",
    "    print(\"Less than 8 is not ACCEPTABLE !!!\")\n",
    "    \n",
    "\n",
    "\n"
   ]
  },
  {
   "cell_type": "code",
   "execution_count": null,
   "metadata": {},
   "outputs": [],
   "source": [
    "x=\"D1 is best in Python\"\n",
    "new=\" \"\n",
    "x=x.title()\n",
    "print(x)\n",
    "for i in range(0,len(x)):\n",
    "    if i<len(x)-1:\n",
    "            if x[i+1]==\" \": \n",
    "                new+=x[i].upper()\n",
    "                continue\n",
    "            new+=x[i]\n",
    "    else:\n",
    "        new+=x[i].upper()\n",
    "print(new)\n",
    "        \n",
    "\n",
    "    \n",
    "\n"
   ]
  },
  {
   "cell_type": "code",
   "execution_count": null,
   "metadata": {},
   "outputs": [],
   "source": [
    "#replace string method \n",
    "x=\"D1 is best in Python\"\n",
    "print(x.replace(\"best\",\"good\"))"
   ]
  },
  {
   "cell_type": "code",
   "execution_count": null,
   "metadata": {},
   "outputs": [],
   "source": [
    "#trim method \n",
    "x=\"  D1 is best in Pthon   \"\n",
    "print(x ,\"With white space\")\n",
    "print(x.strip())\n",
    "print(x.lstrip())\n",
    "print(x.rstrip())\n"
   ]
  },
  {
   "cell_type": "code",
   "execution_count": null,
   "metadata": {},
   "outputs": [],
   "source": [
    "x=\"aaaaabaaa\"\n",
    "print(x.strip('a'))"
   ]
  },
  {
   "cell_type": "code",
   "execution_count": null,
   "metadata": {},
   "outputs": [],
   "source": [
    "x=\"mtmtmtmttmtmtmsdjbgtmmtmtmtmtmtmttmtmtmtmt\"\n",
    "print(x.strip('mt'))"
   ]
  },
  {
   "cell_type": "code",
   "execution_count": null,
   "metadata": {},
   "outputs": [],
   "source": [
    "k=\"D1 is best in Python\"\n",
    "m=k.maketrans(\"aeiou\",\"12345\")\n",
    "print(k.translate(m))"
   ]
  },
  {
   "cell_type": "code",
   "execution_count": null,
   "metadata": {},
   "outputs": [],
   "source": [
    "a=[1,2,3,4,5]\n",
    "print(id(a))\n",
    "print(id(a[0]))\n",
    "print(id(a[1]))\n",
    "print(id(a[2]))\n",
    "print(id(0))\n",
    "print(id(1))\n",
    "print(id(2))"
   ]
  },
  {
   "cell_type": "code",
   "execution_count": null,
   "metadata": {},
   "outputs": [],
   "source": [
    "l=[1,2,3,4,5,6,7,'vishal',9]\n",
    "# print(l[3])\n",
    "# print(l[-6])\n",
    "# print(l[-2][-5])\n",
    "print(l[3:7])\n",
    "print(l[-8:-3:2][-3])\n",
    "print(l[-5:-8:-1][-1])\n",
    "print(l[-1::-1])"
   ]
  },
  {
   "cell_type": "code",
   "execution_count": null,
   "metadata": {},
   "outputs": [],
   "source": [
    "l=[[1,2],[3,4],['vishal10']]\n",
    "print(l[1][1])\n",
    "print(l[2][0][7])\n",
    "print(l[1:])"
   ]
  },
  {
   "cell_type": "code",
   "execution_count": null,
   "metadata": {},
   "outputs": [],
   "source": [
    "l=[[[1,2],[3,4]],[[5,6],[7,8]]]\n",
    "print(l[0][1][1])\n",
    "print(l[-2][-1][-1])"
   ]
  },
  {
   "cell_type": "code",
   "execution_count": null,
   "metadata": {},
   "outputs": [],
   "source": [
    "# //encode\n",
    "\n",
    "msg='vishal'\n",
    "key=2\n",
    "encrypted=''\n",
    "ref='abcdefghijklmnopqrstuvwxyz'\n",
    "\n",
    "for i in msg:\n",
    "    point=ref.find(i)\n",
    "    encrypted+=ref[(point+key)%26]\n",
    "\n",
    "    \n",
    "print(encrypted)\n",
    "\n",
    "\n",
    "    "
   ]
  },
  {
   "cell_type": "code",
   "execution_count": null,
   "metadata": {},
   "outputs": [],
   "source": [
    "# decode\n",
    "\n",
    "msg=input(\"Enter a string : \")\n",
    "key=int(input(\"Enter key : \"))\n",
    "decrypted=''\n",
    "ref='abcdefghijklmnopqrstuvwxyz'\n",
    "\n",
    "for i in msg:\n",
    "    point=ref.find(i)\n",
    "    decrypted+=ref[(point-key)%26]\n",
    "\n",
    "    \n",
    "print(decrypted)"
   ]
  },
  {
   "cell_type": "code",
   "execution_count": null,
   "metadata": {},
   "outputs": [],
   "source": [
    "msg='d1 is best in python'\n",
    "key=2\n",
    "encrypt=''\n",
    "for i in msg:\n",
    "#     index=msg.find(i)\n",
    "    encrypt+=msg[((msg.find(i))+key)%len(msg)]\n",
    "print(encrypt)"
   ]
  },
  {
   "cell_type": "code",
   "execution_count": null,
   "metadata": {},
   "outputs": [],
   "source": [
    "l1=[1,2,3,4,5]\n",
    "l2=[6,7,8,9,10]\n",
    "print(l1+l2)\n",
    "print(l1*3)\n",
    "print(list(enumerate(l1))) #enumeerate is used to get index and value \n",
    "print(list(enumerate(l1,start=10))) #indexing will start from 10 and for tuple we will used tuple instead of list"
   ]
  },
  {
   "cell_type": "code",
   "execution_count": null,
   "metadata": {},
   "outputs": [],
   "source": [
    "l=[[[1,2],[3,4]],[[5,6],[7,8]]]\n",
    "for i in l:\n",
    "    print(i)\n",
    "    for j in i:\n",
    "        print(j)\n",
    "        for k in j:\n",
    "            print(k)"
   ]
  },
  {
   "cell_type": "code",
   "execution_count": null,
   "metadata": {},
   "outputs": [],
   "source": [
    "l=[1,2,3,4,5,1,2]\n",
    "print(len(l))\n",
    "print(max(l))\n",
    "print(min(l))\n",
    "print(sum(l))\n",
    "print(sorted(l))\n",
    "print(sorted(l,reverse=True))\n",
    "print(reversed(l))\n",
    "\n",
    "\n",
    "\n"
   ]
  },
  {
   "cell_type": "code",
   "execution_count": null,
   "metadata": {},
   "outputs": [],
   "source": [
    "list=[]\n",
    "for i in range(1,11):\n",
    "    list.append(i)\n",
    "print(list)\n",
    "\n"
   ]
  },
  {
   "cell_type": "code",
   "execution_count": null,
   "metadata": {},
   "outputs": [],
   "source": [
    "l1=[i for i in range(1,11)]\n",
    "print(l1)"
   ]
  },
  {
   "cell_type": "code",
   "execution_count": null,
   "metadata": {},
   "outputs": [],
   "source": [
    "x=['apple','banana','orange']\n",
    "y=['watermelon','mango','apple','banana']\n",
    "print([i for i in x if i in y])"
   ]
  },
  {
   "cell_type": "code",
   "execution_count": null,
   "metadata": {},
   "outputs": [],
   "source": [
    "t=(1,2,3,4)\n",
    "print(t[::-1])\n"
   ]
  },
  {
   "cell_type": "code",
   "execution_count": null,
   "metadata": {},
   "outputs": [],
   "source": [
    "d={1:'10',2:'20',3:'30',2:'50'}\n",
    "print(d[2])"
   ]
  },
  {
   "cell_type": "code",
   "execution_count": null,
   "metadata": {},
   "outputs": [],
   "source": [
    "d={\n",
    "    1:{'PS':9,'PYTHON':9,'DE':9,'FSD':9,},\n",
    "    2:{'PS':10,'PYTHON':10,'DE':10,'FSD':10,}\n",
    "}\n",
    "print(d[2]['PYTHON'])\n",
    "print(d.get(5,0))\n",
    "# print(d[7]) #eror"
   ]
  },
  {
   "cell_type": "code",
   "execution_count": null,
   "metadata": {},
   "outputs": [],
   "source": [
    "d=dict([(1,2),(3,4)])\n",
    "print(d)"
   ]
  },
  {
   "cell_type": "code",
   "execution_count": null,
   "metadata": {},
   "outputs": [],
   "source": [
    "l=[1,2,3,4]\n",
    "p=[10,10,10,10]\n",
    "d=dict(zip(l,p))\n",
    "print(d)"
   ]
  },
  {
   "cell_type": "code",
   "execution_count": null,
   "metadata": {},
   "outputs": [],
   "source": [
    "# update dict\n",
    "d={1:'10',2:'20',3:'30',2:'50'}\n",
    "d[3]='72'\n",
    "d[4]='50'\n",
    "print(d)"
   ]
  },
  {
   "cell_type": "code",
   "execution_count": null,
   "metadata": {},
   "outputs": [],
   "source": [
    "d={\n",
    "    1:{'PS':9,'PYTHON':9,'DE':9,'FSD':9,},\n",
    "    2:{'PS':10,'PYTHON':10,'DE':10,'FSD':10,}\n",
    "}\n",
    "d[1]['PYTHON']='10'\n",
    "print(d)"
   ]
  },
  {
   "cell_type": "code",
   "execution_count": null,
   "metadata": {},
   "outputs": [],
   "source": [
    "d={1:[2,3,5]}\n",
    "d[1][1]=7\n",
    "d[1].pop()\n",
    "print(d)"
   ]
  },
  {
   "cell_type": "code",
   "execution_count": null,
   "metadata": {},
   "outputs": [],
   "source": [
    "x='abc bcd 9cf xyz ace brf cde xzy xyz'\n",
    "words=x.split(\" \")\n",
    "count=0\n",
    "d={}\n",
    "for i in words:\n",
    "    d[i[0]]=d.get(i[0],[])\n",
    "    d[i[0]].append(i)\n",
    "print(d)\n",
    "    \n",
    "\n",
    "    "
   ]
  },
  {
   "cell_type": "code",
   "execution_count": null,
   "metadata": {},
   "outputs": [],
   "source": [
    "x={1:2,3:9,5:6}\n",
    "print(len(x))\n",
    "print(min(x))\n",
    "print(max(x))\n",
    "print(sorted(x))\n",
    "print(x.keys())\n",
    "print(x.values())\n",
    "print(x.items())\n",
    "\n"
   ]
  },
  {
   "cell_type": "code",
   "execution_count": null,
   "metadata": {},
   "outputs": [],
   "source": [
    "d=[5,7,'vishal']\n",
    "print(min(d))"
   ]
  },
  {
   "cell_type": "code",
   "execution_count": null,
   "metadata": {},
   "outputs": [],
   "source": [
    "x={1:2,3:9,5:6}\n",
    "x.update({1:7,8:9})\n",
    "print(x)"
   ]
  },
  {
   "cell_type": "code",
   "execution_count": null,
   "metadata": {},
   "outputs": [],
   "source": [
    "l=[i for i in range (1,35)]\n",
    "z=10\n",
    "d=dict.fromkeys(l,2)\n",
    "print(d)"
   ]
  },
  {
   "cell_type": "code",
   "execution_count": null,
   "metadata": {},
   "outputs": [],
   "source": [
    "x={1:2,3:9,5:6}\n",
    "x.setdefault(1,7)\n",
    "print(x)"
   ]
  },
  {
   "cell_type": "code",
   "execution_count": null,
   "metadata": {},
   "outputs": [],
   "source": [
    "x={1:2,3:9,5:6}\n",
    "# x.pop(3)\n",
    "# print(x)\n",
    "x.popitem()\n",
    "print(x)"
   ]
  },
  {
   "cell_type": "code",
   "execution_count": null,
   "metadata": {},
   "outputs": [],
   "source": [
    "l=[1,2,3,4]\n",
    "candy=[1]*len(l)\n",
    "# print(candy)\n",
    "for i in range(1,len(l)):\n",
    "    if l[i]>l[i-1]:\n",
    "        candy[i]=candy[i-1]+1\n",
    "\n",
    "for j in range(len(l)-1,-1,-1):\n",
    "    if l[i-1]>l[i]:\n",
    "        candy[i]=max(candy[i],(candy[i+1]+1))\n",
    "print(sum(candy))\n",
    "        "
   ]
  },
  {
   "cell_type": "code",
   "execution_count": null,
   "metadata": {},
   "outputs": [],
   "source": [
    "s=\"python python1 python2 python3 python4 python5\"\n",
    "l=s.split(\" \")\n",
    "l.sort()\n",
    "res=\"\"\n",
    "for i in range(len(l[0])):\n",
    "    if l[0][i]==l[-1][i]:\n",
    "        res+=l[0][i]\n",
    "    else:\n",
    "        break\n",
    "if res:\n",
    "    print(res)\n",
    "else:\n",
    "    print(\"nothing\")"
   ]
  },
  {
   "cell_type": "code",
   "execution_count": null,
   "metadata": {},
   "outputs": [],
   "source": [
    "l=eval(input(\"enter list: \"))\n",
    "for i in range(0,len(l)):\n",
    "    for j in range(0,len(l)):\n",
    "        if i>j:\n",
    "            l[i][j],l[j][i]=l[j][i],l[i][j]\n",
    "print(l)\n",
    "for i in l:\n",
    "    i.reverse()\n",
    "print(l)\n",
    "\n",
    "    \n"
   ]
  },
  {
   "cell_type": "code",
   "execution_count": null,
   "metadata": {},
   "outputs": [],
   "source": [
    "from tkinter import *\n",
    "kasim = tkinter.Tk()\n",
    "\n",
    "kasim.mainloop()"
   ]
  },
  {
   "cell_type": "code",
   "execution_count": 3,
   "metadata": {},
   "outputs": [],
   "source": [
    "from tkinter import *\n",
    "import numpy as np\n",
    "\n",
    "size_of_board = 600\n",
    "symbol_size = (size_of_board / 3 - size_of_board / 8) / 2\n",
    "symbol_thickness = 50\n",
    "symbol_X_color = '#EE4035'\n",
    "symbol_O_color = '#0492CF'\n",
    "Green_color = '#7BC043'\n",
    "\n",
    "\n",
    "class Tic_Tac_Toe():\n",
    "    # ------------------------------------------------------------------\n",
    "    # Initialization Functions:\n",
    "    # ------------------------------------------------------------------\n",
    "    def __init__(self):\n",
    "        self.window = Tk()\n",
    "        self.window.title('Tic-Tac-Toe')\n",
    "        self.canvas = Canvas(self.window, width=size_of_board, height=size_of_board)\n",
    "        self.canvas.pack()\n",
    "        # Input from user in form of clicks\n",
    "        self.window.bind('<Button-1>', self.click)\n",
    "\n",
    "        self.initialize_board()\n",
    "        self.player_X_turns = True\n",
    "        self.board_status = np.zeros(shape=(3, 3))\n",
    "\n",
    "        self.player_X_starts = True\n",
    "        self.reset_board = False\n",
    "        self.gameover = False\n",
    "        self.tie = False\n",
    "        self.X_wins = False\n",
    "        self.O_wins = False\n",
    "\n",
    "        self.X_score = 0\n",
    "        self.O_score = 0\n",
    "        self.tie_score = 0\n",
    "\n",
    "    def mainloop(self):\n",
    "        self.window.mainloop()\n",
    "\n",
    "    def initialize_board(self):\n",
    "        for i in range(2):\n",
    "            self.canvas.create_line((i + 1) * size_of_board / 3, 0, (i + 1) * size_of_board / 3, size_of_board)\n",
    "\n",
    "        for i in range(2):\n",
    "            self.canvas.create_line(0, (i + 1) * size_of_board / 3, size_of_board, (i + 1) * size_of_board / 3)\n",
    "\n",
    "    def play_again(self):\n",
    "        self.initialize_board()\n",
    "        self.player_X_starts = not self.player_X_starts\n",
    "        self.player_X_turns = self.player_X_starts\n",
    "        self.board_status = np.zeros(shape=(3, 3))\n",
    "\n",
    "    # ------------------------------------------------------------------\n",
    "    # Drawing Functions:\n",
    "    # The modules required to draw required game based object on canvas\n",
    "    # ------------------------------------------------------------------\n",
    "\n",
    "    def draw_O(self, logical_position):\n",
    "        logical_position = np.array(logical_position)\n",
    "        # logical_position = grid value on the board\n",
    "        # grid_position = actual pixel values of the center of the grid\n",
    "        grid_position = self.convert_logical_to_grid_position(logical_position)\n",
    "        self.canvas.create_oval(grid_position[0] - symbol_size, grid_position[1] - symbol_size,\n",
    "                                grid_position[0] + symbol_size, grid_position[1] + symbol_size, width=symbol_thickness,\n",
    "                                outline=symbol_O_color)\n",
    "\n",
    "    def draw_X(self, logical_position):\n",
    "        grid_position = self.convert_logical_to_grid_position(logical_position)\n",
    "        self.canvas.create_line(grid_position[0] - symbol_size, grid_position[1] - symbol_size,\n",
    "                                grid_position[0] + symbol_size, grid_position[1] + symbol_size, width=symbol_thickness,\n",
    "                                fill=symbol_X_color)\n",
    "        self.canvas.create_line(grid_position[0] - symbol_size, grid_position[1] + symbol_size,\n",
    "                                grid_position[0] + symbol_size, grid_position[1] - symbol_size, width=symbol_thickness,\n",
    "                                fill=symbol_X_color)\n",
    "\n",
    "    def display_gameover(self):\n",
    "\n",
    "        if self.X_wins:\n",
    "            self.X_score += 1\n",
    "            text = 'Winner: Player 1 (X)'\n",
    "            color = symbol_X_color\n",
    "        elif self.O_wins:\n",
    "            self.O_score += 1\n",
    "            text = 'Winner: Player 2 (O)'\n",
    "            color = symbol_O_color\n",
    "        else:\n",
    "            self.tie_score += 1\n",
    "            text = 'Its a tie'\n",
    "            color = 'gray'\n",
    "\n",
    "        self.canvas.delete(\"all\")\n",
    "        self.canvas.create_text(size_of_board / 2, size_of_board / 3, font=\"cmr 60 bold\", fill=color, text=text)\n",
    "\n",
    "        score_text = 'Scores \\n'\n",
    "        self.canvas.create_text(size_of_board / 2, 5 * size_of_board / 8, font=\"cmr 40 bold\", fill=Green_color,\n",
    "                                text=score_text)\n",
    "\n",
    "        score_text = 'Player 1 (X) : ' + str(self.X_score) + '\\n'\n",
    "        score_text += 'Player 2 (O): ' + str(self.O_score) + '\\n'\n",
    "        score_text += 'Tie                    : ' + str(self.tie_score)\n",
    "        self.canvas.create_text(size_of_board / 2, 3 * size_of_board / 4, font=\"cmr 30 bold\", fill=Green_color,\n",
    "                                text=score_text)\n",
    "        self.reset_board = True\n",
    "\n",
    "        score_text = 'Click to play again \\n'\n",
    "        self.canvas.create_text(size_of_board / 2, 15 * size_of_board / 16, font=\"cmr 20 bold\", fill=\"gray\",\n",
    "                                text=score_text)\n",
    "\n",
    "    # ------------------------------------------------------------------\n",
    "    # Logical Functions:\n",
    "    # The modules required to carry out game logic\n",
    "    # ------------------------------------------------------------------\n",
    "\n",
    "    def convert_logical_to_grid_position(self, logical_position):\n",
    "        logical_position = np.array(logical_position, dtype=int)\n",
    "        return (size_of_board / 3) * logical_position + size_of_board / 6\n",
    "\n",
    "    def convert_grid_to_logical_position(self, grid_position):\n",
    "        grid_position = np.array(grid_position)\n",
    "        return np.array(grid_position // (size_of_board / 3), dtype=int)\n",
    "\n",
    "    def is_grid_occupied(self, logical_position):\n",
    "        if self.board_status[logical_position[0]][logical_position[1]] == 0:\n",
    "            return False\n",
    "        else:\n",
    "            return True\n",
    "\n",
    "    def is_winner(self, player):\n",
    "\n",
    "        player = -1 if player == 'X' else 1\n",
    "\n",
    "        # Three in a row\n",
    "        for i in range(3):\n",
    "            if self.board_status[i][0] == self.board_status[i][1] == self.board_status[i][2] == player:\n",
    "                return True\n",
    "            if self.board_status[0][i] == self.board_status[1][i] == self.board_status[2][i] == player:\n",
    "                return True\n",
    "\n",
    "        # Diagonals\n",
    "        if self.board_status[0][0] == self.board_status[1][1] == self.board_status[2][2] == player:\n",
    "            return True\n",
    "\n",
    "        if self.board_status[0][2] == self.board_status[1][1] == self.board_status[2][0] == player:\n",
    "            return True\n",
    "\n",
    "        return False\n",
    "\n",
    "    def is_tie(self):\n",
    "\n",
    "        r, c = np.where(self.board_status == 0)\n",
    "        tie = False\n",
    "        if len(r) == 0:\n",
    "            tie = True\n",
    "\n",
    "        return tie\n",
    "\n",
    "    def is_gameover(self):\n",
    "        # Either someone wins or all grid occupied\n",
    "        self.X_wins = self.is_winner('X')\n",
    "        if not self.X_wins:\n",
    "            self.O_wins = self.is_winner('O')\n",
    "\n",
    "        if not self.O_wins:\n",
    "            self.tie = self.is_tie()\n",
    "\n",
    "        gameover = self.X_wins or self.O_wins or self.tie\n",
    "\n",
    "        if self.X_wins:\n",
    "            print('X wins')\n",
    "        if self.O_wins:\n",
    "            print('O wins')\n",
    "        if self.tie:\n",
    "            print('Its a tie')\n",
    "\n",
    "        return gameover\n",
    "\n",
    "\n",
    "\n",
    "\n",
    "\n",
    "    def click(self, event):\n",
    "        grid_position = [event.x, event.y]\n",
    "        logical_position = self.convert_grid_to_logical_position(grid_position)\n",
    "\n",
    "        if not self.reset_board:\n",
    "            if self.player_X_turns:\n",
    "                if not self.is_grid_occupied(logical_position):\n",
    "                    self.draw_X(logical_position)\n",
    "                    self.board_status[logical_position[0]][logical_position[1]] = -1\n",
    "                    self.player_X_turns = not self.player_X_turns\n",
    "            else:\n",
    "                if not self.is_grid_occupied(logical_position):\n",
    "                    self.draw_O(logical_position)\n",
    "                    self.board_status[logical_position[0]][logical_position[1]] = 1\n",
    "                    self.player_X_turns = not self.player_X_turns\n",
    "\n",
    "            # Check if game is concluded\n",
    "            if self.is_gameover():\n",
    "                self.display_gameover()\n",
    "                # print('Done')\n",
    "        else:  # Play Again\n",
    "            self.canvas.delete(\"all\")\n",
    "            self.play_again()\n",
    "            self.reset_board = False\n",
    "\n",
    "\n",
    "game_instance = Tic_Tac_Toe()\n",
    "game_instance.mainloop()\n",
    "\n"
   ]
  },
  {
   "cell_type": "code",
   "execution_count": null,
   "metadata": {},
   "outputs": [],
   "source": []
  }
 ],
 "metadata": {
  "kernelspec": {
   "display_name": "Python 3",
   "language": "python",
   "name": "python3"
  },
  "language_info": {
   "codemirror_mode": {
    "name": "ipython",
    "version": 3
   },
   "file_extension": ".py",
   "mimetype": "text/x-python",
   "name": "python",
   "nbconvert_exporter": "python",
   "pygments_lexer": "ipython3",
   "version": "3.8.5"
  }
 },
 "nbformat": 4,
 "nbformat_minor": 4
}
